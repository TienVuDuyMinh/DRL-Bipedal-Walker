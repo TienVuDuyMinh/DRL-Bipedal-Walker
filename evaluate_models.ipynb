{
 "cells": [
  {
   "cell_type": "code",
   "execution_count": 1,
   "id": "db0b45ca",
   "metadata": {},
   "outputs": [],
   "source": [
    "# Import thư viện \n",
    "import gymnasium as gym\n",
    "import torch\n",
    "import numpy as np\n",
    "import matplotlib.pyplot as plt\n",
    "from Env.environment import make_env\n",
    "from Dqn.dqn_agent import DQNAgent\n",
    "from Policy.ppo_agent import PPOAgent\n",
    "from Result.evaluation import evaluate_agent\n",
    "\n",
    "device = torch.device(\"cuda\" if torch.cuda.is_available() else \"cpu\")\n",
    "env_name = \"BipedalWalker-v3\"\n",
    "env = make_env(env_name, seed=42, render_mode=None)\n",
    "\n",
    "state_dim = env.observation_space.shape[0]\n",
    "action_dim_discrete = env.action_space.np_random  # DQN\n",
    "action_dim_continuous = env.action_space.shape[0]  # PPO\n"
   ]
  },
  {
   "cell_type": "code",
   "execution_count": null,
   "id": "714bbaa8",
   "metadata": {},
   "outputs": [],
   "source": [
    "# Khởi tạo agent DQN và load model\n",
    "dqn_model_path = r\"D:\\code_etc\\Python\\_File_chay_code\\DRL\\Bidepal_Gym\\Model\\actor_dqn.pth\"\n",
    "dqn_agent = DQNAgent(state_dim, action_dim_discrete)\n",
    "dqn_agent.load(dqn_model_path)\n",
    "print(f\"Loaded DQN model from {dqn_model_path}\")\n"
   ]
  },
  {
   "cell_type": "code",
   "execution_count": null,
   "id": "dd92c582",
   "metadata": {},
   "outputs": [],
   "source": [
    "# Khởi tạo agent PPO và load model\n",
    "ppo_model_path = r\"D:\\code_etc\\Python\\_File_chay_code\\DRL\\Bidepal_Gym\\Model\\actor_ppo.pth\"\n",
    "ppo_agent = PPOAgent(state_dim, action_dim_continuous, device=device)\n",
    "ppo_agent.load(ppo_model_path)\n",
    "print(f\"Loaded PPO model from {ppo_model_path}\")\n"
   ]
  },
  {
   "cell_type": "code",
   "execution_count": null,
   "id": "a6ef53c4",
   "metadata": {},
   "outputs": [],
   "source": [
    "# Đánh giá DQN agent\n",
    "print(\"Evaluating DQN agent...\")\n",
    "dqn_rewards = evaluate_agent(env, dqn_agent, episodes=10, render=False)\n",
    "print(f\"DQN agent mean reward over 10 episodes: {np.mean(dqn_rewards):.2f}\")\n"
   ]
  },
  {
   "cell_type": "code",
   "execution_count": null,
   "id": "00e3d733",
   "metadata": {},
   "outputs": [],
   "source": [
    "# Đánh giá PPO agent\n",
    "print(\"Evaluating PPO agent...\")\n",
    "ppo_rewards = evaluate_agent(env, ppo_agent, episodes=10, render=False)\n",
    "print(f\"PPO agent mean reward over 10 episodes: {np.mean(ppo_rewards):.2f}\")\n"
   ]
  }
 ],
 "metadata": {
  "kernelspec": {
   "display_name": "Python 3",
   "language": "python",
   "name": "python3"
  },
  "language_info": {
   "codemirror_mode": {
    "name": "ipython",
    "version": 3
   },
   "file_extension": ".py",
   "mimetype": "text/x-python",
   "name": "python",
   "nbconvert_exporter": "python",
   "pygments_lexer": "ipython3",
   "version": "3.10.0"
  }
 },
 "nbformat": 4,
 "nbformat_minor": 5
}
