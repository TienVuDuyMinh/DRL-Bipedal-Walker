{
 "cells": [
  {
   "cell_type": "code",
   "execution_count": 3,
   "id": "c4bad319",
   "metadata": {},
   "outputs": [],
   "source": [
    "# Import thư viện\n",
    "import numpy as np\n",
    "import torch\n",
    "from collections import deque\n",
    "from Env.environment import make_env\n",
    "from Dqn.dqn_agent import DQNAgent\n",
    "import matplotlib.pyplot as plt\n"
   ]
  },
  {
   "cell_type": "code",
   "execution_count": null,
   "id": "2700e171",
   "metadata": {},
   "outputs": [],
   "source": [
    "# Khởi tạo môi trường và agent\n",
    "device = torch.device(\"cuda\" if torch.cuda.is_available() else \"cpu\")\n",
    "env = make_env(\"BipedalWalker-v3\", seed=42, render_mode=None)\n",
    "\n",
    "state_dim = env.observation_space.shape[0]\n",
    "action_dim = env.action_space.n\n",
    "\n",
    "agent = DQNAgent(state_dim, action_dim, device=device)\n",
    "\n",
    "replay_buffer = deque(maxlen=100000)\n"
   ]
  },
  {
   "cell_type": "code",
   "execution_count": 4,
   "id": "096542b8",
   "metadata": {},
   "outputs": [],
   "source": [
    "# Tham số training\n",
    "num_episodes = 200\n",
    "max_steps = 2000\n",
    "batch_size = 64\n",
    "gamma = 0.99\n",
    "eps_start = 1.0\n",
    "eps_end = 0.05\n",
    "eps_decay = 0.995\n",
    "target_update = 10\n"
   ]
  },
  {
   "cell_type": "code",
   "execution_count": null,
   "id": "7da6fb60",
   "metadata": {},
   "outputs": [],
   "source": [
    "# Vòng lặp training\n",
    "epsilon = eps_start\n",
    "rewards_all = []\n",
    "\n",
    "for episode in range(1, num_episodes + 1):\n",
    "    state, _ = env.reset()\n",
    "    total_reward = 0\n",
    "\n",
    "    for t in range(max_steps):\n",
    "        action = agent.act(state, epsilon)\n",
    "        next_state, reward, terminated, truncated, _ = env.step(action)\n",
    "        done = terminated or truncated\n",
    "\n",
    "        replay_buffer.append((state, action, reward, next_state, done))\n",
    "\n",
    "        state = next_state\n",
    "        total_reward += reward\n",
    "\n",
    "        if len(replay_buffer) >= batch_size:\n",
    "            batch = np.random.choice(len(replay_buffer), batch_size, replace=False)\n",
    "            states, actions, rewards, next_states, dones = zip(*[replay_buffer[i] for i in batch])\n",
    "            agent.learn(states, actions, rewards, next_states, dones)\n",
    "\n",
    "        if done:\n",
    "            break\n",
    "\n",
    "    epsilon = max(eps_end, epsilon * eps_decay)\n",
    "    rewards_all.append(total_reward)\n",
    "\n",
    "    if episode % target_update == 0:\n",
    "        agent.update_target()\n",
    "\n",
    "    print(f\"Episode {episode}, Reward: {total_reward:.2f}, Epsilon: {epsilon:.3f}\")\n"
   ]
  },
  {
   "cell_type": "code",
   "execution_count": null,
   "id": "72dc53b2",
   "metadata": {},
   "outputs": [],
   "source": [
    "# Vẽ biểu đồ reward theo episode\n",
    "plt.plot(rewards_all)\n",
    "plt.xlabel(\"Episode\")\n",
    "plt.ylabel(\"Total Reward\")\n",
    "plt.title(\"Training Rewards of DQN Agent\")\n",
    "plt.show()\n"
   ]
  },
  {
   "cell_type": "code",
   "execution_count": null,
   "id": "3ccd56f9",
   "metadata": {},
   "outputs": [],
   "source": [
    "# Lưu model\n",
    "algorithm = \"dqn\"\n",
    "save_path = rf\"D:\\code_etc\\Python\\_File_chay_code\\DRL\\Bidepal_Gym\\Model\\actor_dqn.pth\"\n",
    "agent.save(save_path)\n",
    "print(f\"Model saved to {save_path}\")"
   ]
  },
  {
   "cell_type": "code",
   "execution_count": null,
   "id": "f1ff05b0",
   "metadata": {},
   "outputs": [],
   "source": []
  }
 ],
 "metadata": {
  "kernelspec": {
   "display_name": "Python 3",
   "language": "python",
   "name": "python3"
  },
  "language_info": {
   "codemirror_mode": {
    "name": "ipython",
    "version": 3
   },
   "file_extension": ".py",
   "mimetype": "text/x-python",
   "name": "python",
   "nbconvert_exporter": "python",
   "pygments_lexer": "ipython3",
   "version": "3.10.0"
  }
 },
 "nbformat": 4,
 "nbformat_minor": 5
}
