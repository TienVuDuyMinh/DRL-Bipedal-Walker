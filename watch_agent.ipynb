{
 "cells": [
  {
   "cell_type": "code",
   "execution_count": null,
   "id": "ed946b7c",
   "metadata": {},
   "outputs": [],
   "source": [
    "import torch\n",
    "from Env.environment import make_env\n",
    "from Dqn.dqn_agent import DQNAgent\n",
    "from Policy.ppo_agent import PPOAgent\n",
    "import time\n",
    "\n",
    "device = torch.device(\"cuda\" if torch.cuda.is_available() else \"cpu\")\n",
    "env_name = \"BipedalWalker-v3\"\n",
    "\n",
    "# Chọn thuật toán \n",
    "algo = \"PPO\"  \n",
    "\n",
    "# Đường dẫn model\n",
    "if algo == \"DQN\":\n",
    "    model_path = r\"D:\\code_etc\\Python\\_File_chay_code\\DRL\\Bidepal_Gym\\Model\\actor_dqn.pth\"\n",
    "elif algo == \"PPO\":\n",
    "    model_path = r\"D:\\code_etc\\Python\\_File_chay_code\\DRL\\Bidepal_Gym\\Model\\actor_ppo.pth\"\n",
    "else:\n",
    "    raise ValueError(\"Chỉ hỗ trợ thuật toán DQN hoặc PPO\")\n",
    "\n",
    "env = make_env(env_name, render_mode=\"human\", seed=42)\n",
    "state_dim = env.observation_space.shape[0]\n",
    "\n",
    "if algo == \"DQN\":\n",
    "    action_dim = env.action_space.n\n",
    "    agent = DQNAgent(state_dim, action_dim)\n",
    "    agent.load(model_path)\n",
    "elif algo == \"PPO\":\n",
    "    action_dim = env.action_space.shape[0]\n",
    "    agent = PPOAgent(state_dim, action_dim, device=device)\n",
    "    agent.load(model_path)\n",
    "\n",
    "print(f\"Loaded {algo} model from {model_path}\")\n",
    "\n",
    "state, _ = env.reset()\n",
    "done = False\n",
    "total_reward = 0\n",
    "\n",
    "while not done:\n",
    "    env.render()\n",
    "    if algo == \"DQN\":\n",
    "        action = agent.act(state, deterministic=True)\n",
    "    else:  # PPO\n",
    "        action = agent.select_action(state)[0]\n",
    "\n",
    "    state, reward, terminated, truncated, _ = env.step(action)\n",
    "    done = terminated or truncated\n",
    "    total_reward += reward\n",
    "    time.sleep(0.01)  # Tăng hoặc giảm tốc độ render nếu muốn\n",
    "\n",
    "print(f\"Total reward: {total_reward:.2f}\")\n",
    "env.close()\n"
   ]
  }
 ],
 "metadata": {
  "kernelspec": {
   "display_name": "Python 3",
   "language": "python",
   "name": "python3"
  },
  "language_info": {
   "codemirror_mode": {
    "name": "ipython",
    "version": 3
   },
   "file_extension": ".py",
   "mimetype": "text/x-python",
   "name": "python",
   "nbconvert_exporter": "python",
   "pygments_lexer": "ipython3",
   "version": "3.10.0"
  }
 },
 "nbformat": 4,
 "nbformat_minor": 5
}
